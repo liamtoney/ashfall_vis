{
 "cells": [
  {
   "cell_type": "code",
   "execution_count": null,
   "metadata": {
    "scrolled": false
   },
   "outputs": [],
   "source": [
    "import rasterio\n",
    "from vis_tools import read_hysplit_netcdf\n",
    "import numpy as np\n",
    "import os\n",
    "import colorcet as cc\n",
    "\n",
    "FILENAME = '18042918_taupo_15.0_0.01.nc'\n",
    "\n",
    "temp = read_hysplit_netcdf(FILENAME).isel(time=slice(1, None)).transpose('time', 'lat', 'lon')  # remove trivial t=0 step\n",
    "np.place(temp['total_deposition'].values, np.isnan(temp['total_deposition'].values), 0)  # transform all NaN values to 0\n",
    "temp.to_netcdf('temp.nc')\n",
    "\n",
    "model = rasterio.open('temp.nc', 'r')\n",
    "\n",
    "cmap = []\n",
    "for i in range(256):\n",
    "    cmap.append(cc.m_fire_r(1))\n",
    "\n",
    "for band in model.indexes:\n",
    "\n",
    "    new_dataset = rasterio.open(FILENAME.rstrip('.nc')+'_{}{}'.format(band, '.tif'), 'w',\n",
    "                                driver='GTiff',\n",
    "                                height=model.height, width=model.width,\n",
    "                                count=1, dtype=model.profile['dtype'],\n",
    "                                crs={'init': 'epsg:4326'}, transform=model.affine,\n",
    "                                nodata=0)\n",
    "    new_dataset.write(model.read(band), 1)\n",
    "    new_dataset.close()\n",
    "    print('band {} is written'.format(band))\n",
    "\n",
    "model.close()\n",
    "os.remove('temp.nc')\n",
    "print('done')"
   ]
  },
  {
   "cell_type": "code",
   "execution_count": null,
   "metadata": {},
   "outputs": [],
   "source": [
    "import simplekml\n",
    "import rasterio\n",
    "\n",
    "FILENAME = '18042918_taupo_15.0_0.01_1.tif'\n",
    "\n",
    "ts = int(FILENAME.split('.')[-2].split('_')[-1])\n",
    "\n",
    "kml = simplekml.Kml()\n",
    "\n",
    "image = kml.newgroundoverlay(name='time_step_{}'.format(ts))\n",
    "image.icon.href = kml.addfile(FILENAME)\n",
    "with rasterio.open(FILENAME, 'r') as src:\n",
    "    image.latlonbox.north = src.bounds.top\n",
    "    image.latlonbox.south = src.bounds.bottom\n",
    "    image.latlonbox.east = src.bounds.right\n",
    "    image.latlonbox.west = src.bounds.left\n",
    "    \n",
    "kml.savekmz('ash.kmz')"
   ]
  }
 ],
 "metadata": {
  "kernelspec": {
   "display_name": "Python 3",
   "language": "python",
   "name": "python3"
  },
  "language_info": {
   "codemirror_mode": {
    "name": "ipython",
    "version": 3
   },
   "file_extension": ".py",
   "mimetype": "text/x-python",
   "name": "python",
   "nbconvert_exporter": "python",
   "pygments_lexer": "ipython3",
   "version": "3.6.5"
  }
 },
 "nbformat": 4,
 "nbformat_minor": 2
}
