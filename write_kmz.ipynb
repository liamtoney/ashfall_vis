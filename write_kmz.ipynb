{
 "cells": [
  {
   "cell_type": "code",
   "execution_count": null,
   "metadata": {
    "scrolled": false
   },
   "outputs": [],
   "source": [
    "import os\n",
    "import numpy as np\n",
    "import rasterio\n",
    "import shutil\n",
    "from vis_tools import read_hysplit_netcdf\n",
    "\n",
    "FILENAME = '18042918_taupo_15.0_0.01.nc'\n",
    "\n",
    "folder = FILENAME.rstrip('.nc')\n",
    "raw_dir = os.path.join(folder, 'raw')\n",
    "log_dir = os.path.join(folder, 'log10')\n",
    "if not os.path.exists(raw_dir):\n",
    "    os.makedirs(raw_dir)\n",
    "if not os.path.exists(log_dir):\n",
    "    os.makedirs(log_dir)    \n",
    "    \n",
    "# read netCDF (remove the trivial, empty t=0 step and transpose for GeoTIFF coord order)\n",
    "temp = read_hysplit_netcdf(FILENAME).isel(time=slice(1, None)).transpose('time', 'lat', 'lon')\n",
    "\n",
    "nodata = -1\n",
    "np.place(temp['total_deposition'].values, np.isnan(temp['total_deposition'].values), nodata)  # transform all NaN's to nodata\n",
    "\n",
    "temp.to_netcdf('temp.nc')\n",
    "model = rasterio.open('temp.nc', 'r')\n",
    "os.remove('temp.nc')\n",
    "\n",
    "for time_step in model.indexes:\n",
    "    \n",
    "    timestamp = str(np.datetime64(temp['time'].values[time_step-1], 'h'))\n",
    "    \n",
    "    raw_fname = FILENAME.rstrip('.nc')+'_'+timestamp+'.tif'\n",
    "    raw_rast = rasterio.open(os.path.join(raw_dir, raw_fname),\n",
    "                                'w', driver='GTiff',\n",
    "                                height=model.height, width=model.width,\n",
    "                                count=1, dtype=model.profile['dtype'],\n",
    "                                crs={'init': 'epsg:4326'}, transform=model.affine,\n",
    "                                nodata=nodata)\n",
    "    raw_rast.write(model.read(time_step), 1)  \n",
    "    shared_profile = raw_rast.profile\n",
    "    raw_rast.close()\n",
    "    print('finished writing {}'.format(raw_fname))\n",
    "    \n",
    "    log_fname = FILENAME.rstrip('.nc')+'_'+timestamp+'_log10'+'.tif'\n",
    "    with rasterio.open(os.path.join(log_dir, log_fname), 'w', **shared_profile) as log_rast:\n",
    "        log_data = np.log10(model.read(time_step))\n",
    "        np.place(log_data, np.isnan(log_data), nodata)\n",
    "        log_rast.write(log_data, 1)\n",
    "    print('finished writing {}\\n'.format(log_fname))\n",
    "    \n",
    "model.close()\n",
    "\n",
    "shutil.make_archive(os.path.join(folder, folder), 'zip', folder)\n",
    "\n",
    "print('done')"
   ]
  },
  {
   "cell_type": "code",
   "execution_count": null,
   "metadata": {},
   "outputs": [],
   "source": [
    "# DRAFT\n",
    "\n",
    "import simplekml\n",
    "import rasterio\n",
    "\n",
    "FILENAME = '18042918_taupo_15.0_0.01/log10/18042918_taupo_15.0_0.01_2018-04-30T18_log10.tif'\n",
    "\n",
    "kml = simplekml.Kml()\n",
    "\n",
    "image = kml.newgroundoverlay(name='test')\n",
    "image.icon.href = kml.addfile(FILENAME)\n",
    "with rasterio.open(FILENAME, 'r') as src:\n",
    "    image.latlonbox.north = src.bounds.top\n",
    "    image.latlonbox.south = src.bounds.bottom\n",
    "    image.latlonbox.east = src.bounds.right\n",
    "    image.latlonbox.west = src.bounds.left\n",
    "    \n",
    "kml.savekmz('ash.kmz')"
   ]
  }
 ],
 "metadata": {
  "kernelspec": {
   "display_name": "bokeh-dev",
   "language": "python",
   "name": "bokeh-dev"
  },
  "language_info": {
   "codemirror_mode": {
    "name": "ipython",
    "version": 3
   },
   "file_extension": ".py",
   "mimetype": "text/x-python",
   "name": "python",
   "nbconvert_exporter": "python",
   "pygments_lexer": "ipython3",
   "version": "3.6.4"
  }
 },
 "nbformat": 4,
 "nbformat_minor": 2
}
