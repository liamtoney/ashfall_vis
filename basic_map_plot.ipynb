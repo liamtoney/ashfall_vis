{
 "cells": [
  {
   "cell_type": "code",
   "execution_count": null,
   "metadata": {
    "scrolled": false
   },
   "outputs": [],
   "source": [
    "import numpy as np\n",
    "import matplotlib as mpl\n",
    "import matplotlib.pyplot as plt\n",
    "import matplotlib.colors as colors\n",
    "import pyproj\n",
    "import xarray as xr # for reading netCDF files\n",
    "from vis_tools import grab_gmt_boundaries # our custom module\n",
    "\n",
    "###############################################\n",
    "# SPECIFY: file name and path for HYSPLIT model\n",
    "FILENAME = '/opt/hysplit/18020300_ruapehu_12.5_0.01.nc'\n",
    "###############################################\n",
    "\n",
    "# projection stuff\n",
    "WGS84 = pyproj.Proj('+init=epsg:4326')\n",
    "NZTM = pyproj.Proj('+proj=tmerc +lat_0=0 +lon_0=173 +k=0.9996 +x_0=1600000 +y_0=10000000 +ellps=GRS80 +towgs84=0,0,0,0,0,0,0 +units=m +no_defs')\n",
    "\n",
    "model = xr.open_dataset(FILENAME)\n",
    "src_loc = [-39.283333, 175.566667] # currently hard-coded for Ruapehu (need to add dict of volc locs)\n",
    "src_E, src_N = pyproj.transform(WGS84, NZTM, src_loc[1], src_loc[0])\n",
    "\n",
    "# coordinates -- spatial and temporal\n",
    "lat = model['lat'].data\n",
    "lon = model['lon'].data\n",
    "model_E, model_N = pyproj.transform(WGS84, NZTM, lon, lat)\n",
    "\n",
    "t = model['time'].data # hours\n",
    "\n",
    "# ash thickness\n",
    "td = model['total_deposition'].data # mm"
   ]
  },
  {
   "cell_type": "code",
   "execution_count": null,
   "metadata": {
    "scrolled": false
   },
   "outputs": [],
   "source": [
    "###########################################\n",
    "# SPECIFY: model time step, plotting params\n",
    "TIME_STEP = 1\n",
    "\n",
    "ASH_MIN = 10**-2\n",
    "ASH_MAX = 10**3\n",
    "NUM_CON = 6\n",
    "RES = 'f'\n",
    "###########################################  \n",
    "    \n",
    "# grab the time step from the gridded data        \n",
    "time_slice = td[TIME_STEP, :, :]\n",
    "\n",
    "# replace all zero values with nan's\n",
    "np.place(time_slice, time_slice==0, np.nan)\n",
    "\n",
    "# tweak figure settings for readability\n",
    "plt.figure(figsize=(14, 8))\n",
    "mpl.rcParams.update({'font.size': 14})\n",
    "\n",
    "# PLOT background geography\n",
    "boundaries = grab_gmt_boundaries(-48,-33,165,180,RES) # HARD-CODED region for now\n",
    "for b_lat, b_lon in zip(boundaries['latitude'], boundaries['longitude']):\n",
    "    b_E, b_N = pyproj.transform(WGS84, NZTM, b_lon, b_lat)\n",
    "    plt.plot(b_E, b_N, 'k', linewidth=0.75)\n",
    "\n",
    "# PLOT ashfall (using log scale)\n",
    "plt.pcolor(model_E, model_N, time_slice, cmap='hot_r', norm=colors.LogNorm(), vmin=ASH_MIN, vmax=ASH_MAX)\n",
    "cb = plt.colorbar()\n",
    "#plt.contour(model_E, model_N, time_slice, np.logspace(np.log10(ASH_MIN), np.log10(ASH_MAX), NUM_CON),\\\n",
    "#            colors='k', alpha = 0.5, linewidths=0.75)\n",
    "\n",
    "# PLOT source location\n",
    "plt.scatter(src_E, src_N, s=200, c='c', marker='*', edgecolors='k', linewidths=0.75, label='source')\n",
    "\n",
    "# HARD-CODED plot limits for now\n",
    "plt.xlim(1600000, 2100000)\n",
    "plt.ylim(5600000, 6000000)\n",
    "plt.gca().set_aspect('equal', adjustable='box')\n",
    "\n",
    "plt.xlabel('easting')\n",
    "plt.ylabel('northing')\n",
    "plt.title(FILENAME.split('/')[-1][:-3] + '\\n' + 'time step ' + str(TIME_STEP+1) + ' of 8')\n",
    "cb.set_label('ash thickness (mm)')\n",
    "\n",
    "plt.legend();"
   ]
  }
 ],
 "metadata": {
  "kernelspec": {
   "display_name": "Python 3",
   "language": "python",
   "name": "python3"
  },
  "language_info": {
   "codemirror_mode": {
    "name": "ipython",
    "version": 3
   },
   "file_extension": ".py",
   "mimetype": "text/x-python",
   "name": "python",
   "nbconvert_exporter": "python",
   "pygments_lexer": "ipython3",
   "version": "3.6.4"
  },
  "varInspector": {
   "cols": {
    "lenName": 16,
    "lenType": 16,
    "lenVar": 40
   },
   "kernels_config": {
    "python": {
     "delete_cmd_postfix": "",
     "delete_cmd_prefix": "del ",
     "library": "var_list.py",
     "varRefreshCmd": "print(var_dic_list())"
    },
    "r": {
     "delete_cmd_postfix": ") ",
     "delete_cmd_prefix": "rm(",
     "library": "var_list.r",
     "varRefreshCmd": "cat(var_dic_list()) "
    }
   },
   "oldHeight": 596.4,
   "position": {
    "height": "40px",
    "left": "1161px",
    "right": "20px",
    "top": "115px",
    "width": "356px"
   },
   "types_to_exclude": [
    "module",
    "function",
    "builtin_function_or_method",
    "instance",
    "_Feature"
   ],
   "varInspector_section_display": "none",
   "window_display": true
  }
 },
 "nbformat": 4,
 "nbformat_minor": 2
}
