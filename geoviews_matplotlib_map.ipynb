{
 "cells": [
  {
   "cell_type": "code",
   "execution_count": null,
   "metadata": {
    "scrolled": false
   },
   "outputs": [],
   "source": [
    "import holoviews as hv\n",
    "import geoviews as gv\n",
    "import cartopy.crs as ccrs\n",
    "import cartopy.feature as cf\n",
    "import colorcet as cc\n",
    "from vis_tools import read_hysplit_netcdf\n",
    "\n",
    "# ignore two benign warnings that arise from my use of NaN's instead of 0's\n",
    "import warnings\n",
    "warnings.filterwarnings('ignore', message='invalid value encountered in less_equal')\n",
    "warnings.filterwarnings('ignore', message='All-NaN slice encountered')\n",
    "\n",
    "hv.extension('matplotlib')\n",
    "\n",
    "###############################################\n",
    "# SPECIFY: file name and path for HYSPLIT model\n",
    "FILENAME = '/opt/hysplit/18040212_white_island_5.0_0.01.nc'\n",
    "\n",
    "# SPECIFY:\n",
    "ASH_MIN = 10**-2  # min ash colorbar cutoff\n",
    "ASH_MAX = 10**2  # max ash colorbar cutoff\n",
    "###############################################\n",
    "\n",
    "NZTM_PROJ = ccrs.epsg(2193)  # define projection using NZTM EPSG code (need internet access)\n",
    "\n",
    "# INPUT: boundary data\n",
    "boundary_data = cf.GSHHSFeature(scale='auto', levels=[1, 2]) \n",
    "      \n",
    "# INPUT: model   \n",
    "model = read_hysplit_netcdf(FILENAME)\n",
    "\n",
    "gv_ds = gv.Dataset(model, crs=ccrs.PlateCarree())\n",
    "gv_ds = gv_ds.redim.label(lon='easting', lat='northing', total_deposition='ash thickness (mm)')\n",
    "\n",
    "fig = gv_ds.to(gv.Image, ['lon', 'lat']) * gv.Feature(boundary_data) * gv.Points(tuple(model.attrs['volcano_location'][::-1]))\n",
    "\n",
    "plot_opts = {'Image': {'style': dict(cmap=cc.m_fire_r, clims=(ASH_MIN, ASH_MAX)),\\\n",
    "                        'plot': dict(projection=NZTM_PROJ, colorbar=True, logz=True, fig_size=300,\\\n",
    "                                     title_format=FILENAME.split('/')[-1])},\\\n",
    "           'Feature': {'style': dict(),\\\n",
    "                        'plot': dict(projection=NZTM_PROJ)},\\\n",
    "            'Points': {'style': dict(marker='^', color='c', edgecolors='k', s=100, linewidths=0.75),\\\n",
    "                        'plot': dict(projection=NZTM_PROJ)}            \n",
    "            }\n",
    "\n",
    "fig.opts(plot_opts)"
   ]
  }
 ],
 "metadata": {
  "kernelspec": {
   "display_name": "Python 3 Bokeh dev",
   "language": "python",
   "name": "bokeh-dev"
  },
  "language_info": {
   "codemirror_mode": {
    "name": "ipython",
    "version": 3
   },
   "file_extension": ".py",
   "mimetype": "text/x-python",
   "name": "python",
   "nbconvert_exporter": "python",
   "pygments_lexer": "ipython3",
   "version": "3.6.4"
  }
 },
 "nbformat": 4,
 "nbformat_minor": 2
}
