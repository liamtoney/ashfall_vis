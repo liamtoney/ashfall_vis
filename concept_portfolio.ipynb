{
 "cells": [
  {
   "cell_type": "markdown",
   "metadata": {},
   "source": [
    "# Interactive visualizations of ashfall forecast models from HYSPLIT\n",
    "Liam Toney  \n",
    "2 May 2018  \n",
    "toney.liam@gmail.com\n",
    "### 1. Reading the HYSPLIT output file\n",
    "We start by reading the chosen HYSPLIT netCDF file using [xarray](http://xarray.pydata.org/en/stable/), returning an `xarray.Dataset` object. The `Dataset` object is essentially an in-memory representation of the netCDF file. It's self-describing and it contains all of the attributes, coordinates, units etc. of the source file."
   ]
  },
  {
   "cell_type": "code",
   "execution_count": 1,
   "metadata": {},
   "outputs": [],
   "source": [
    "import xarray as xr\n",
    "\n",
    "FILENAME = '/opt/hysplit/18040212_taranaki_12.0_0.01.nc'\n",
    "\n",
    "model = xr.open_dataset(FILENAME)"
   ]
  },
  {
   "cell_type": "markdown",
   "metadata": {},
   "source": [
    "We make a few out-of-the-box modifications to the model:\n",
    "* The edge of the model space for these HYSPLIT files runs right up to the 180<sup>th</sup> meridian, which causes instabilities in some plotting codes that don't know how to \"wrap-around\" coordinates. To avoid issues we remove the sliver of model space on this edge.\n",
    "* We trim the model space to the smallest bounding box encompassing all non-zero ash deposition values at the final model time step. This vastly reduces the number of elements in the model, and we don't lose any information since those discarded elements were all zero anyways.\n",
    "* Finally, we stick in a trivial empty time step at $t=0$, since most of our plots which incorporate the time dimension make more sense when intialized at the actual onset of the eruption."
   ]
  },
  {
   "cell_type": "code",
   "execution_count": null,
   "metadata": {},
   "outputs": [],
   "source": []
  }
 ],
 "metadata": {
  "kernelspec": {
   "display_name": "Python 3",
   "language": "python",
   "name": "python3"
  },
  "language_info": {
   "codemirror_mode": {
    "name": "ipython",
    "version": 3
   },
   "file_extension": ".py",
   "mimetype": "text/x-python",
   "name": "python",
   "nbconvert_exporter": "python",
   "pygments_lexer": "ipython3",
   "version": "3.6.4"
  }
 },
 "nbformat": 4,
 "nbformat_minor": 2
}
