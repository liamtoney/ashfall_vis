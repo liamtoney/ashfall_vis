{
 "cells": [
  {
   "cell_type": "markdown",
   "metadata": {},
   "source": [
    "# Concept portfolio\n",
    "-------------------------------\n",
    "This Jupyter notebook contains code and explanatory text for three key visualization products:\n",
    "* An interactive map\n",
    "* A time profile plotting tool\n",
    "* A GIS / Google Earth data export utility\n",
    "\n",
    "The netCDF filename and other plotting parameters specified below are used globally between all three products. The code cells for the three products are independent of one another, however, so once you specify the global parameters you can choose to run any or all of the following cells. To contextualize the code presented, I provide a brief overview of each of the Python packages used in this notebook (and by the repository as a whole) as a preface.\n",
    "\n",
    "## Contents\n",
    "----------------\n",
    "1. [Overview of tools](#tools)\n",
    "2. [Global visualization specifications](#global)\n",
    "\n",
    "<a id=\"tools\"></a>\n",
    "## 1. Overview of tools\n",
    "-------------------------------\n",
    "The list of Python packages here corresponds to those specified in [`environment.yml`](environment.yml), which is the file used to build the [Binder](https://mybinder.org/v2/gh/liamtoney/ashfall_visual/master) for this repository. I've spent quite a bit of time searching through various package options &mdash; for example, there are approximately one gazillion KML writing packages out there &mdash; and this list is the distilled result of my efforts.\n",
    "\n",
    "### \"Standard\" tools\n",
    "- [**matplotlib**](https://matplotlib.org/)\n",
    "- [**numpy**](http://www.numpy.org/)\n",
    "\n",
    "### Gridded data I/O\n",
    "- [**netcdf4**](http://unidata.github.io/netcdf4-python/) &mdash; Required by xarray to read netCDF files.\n",
    "\n",
    "\n",
    "- [**xarray**](https://xarray.pydata.org/en/latest/) &mdash; Excellent package for working with N-D arrays. Reading a netCDF file with xarray creates an `xarray.Dataset` object, which is essentially an in-memory representation of the netCDF file.\n",
    "\n",
    "### Georeferenced data I/O\n",
    "- [**fiona**](http://toblerity.org/fiona/) &mdash; Python wrapper for the **vector** portion of the GDAL library. Can be used to create georeferenced point, line, and polygon information (shapefiles) for ingestion into GIS programs such as ArcMap.\n",
    "\n",
    "\n",
    "- [**gdal**](https://pypi.org/project/GDAL/) &mdash; Required by both Rasterio and Fiona. It's possible to use this library directly with (for example)\n",
    "```python\n",
    "from osgeo import gdal\n",
    "from osgeo import ogr\n",
    "```\n",
    "However, Rasterio and Fiona provide a much friendlier interface.\n",
    "\n",
    "\n",
    "- [**rasterio**](https://rasterio.readthedocs.io/en/latest/) &mdash; Python wrapper for the **raster** portion of the GDAL library. Can be used to create georeferenced GeoTIFF files for ingestion into GIS programs such as [ArcMap](http://desktop.arcgis.com/en/arcmap/).\n",
    "\n",
    "\n",
    "- [**simplekml**](https://simplekml.readthedocs.io/en/latest/) &mdash; Provides a simple Python interface for constructing KML and KMZ files for ingestion into programs such as [Google Earth Pro](https://www.google.com/earth/download/gep/agree.html).\n",
    "\n",
    "### Plotting\n",
    "- [**bokeh**](https://bokeh.pydata.org/en/latest/) &mdash; A plotting backend alternative to Matplotlib. Offers easily configurable interactivity with some pretty serious features available if you're willing to code your own JavaScript callbacks. Limited support for geographic data, but GeoViews mostly solves this issue.\n",
    "\n",
    "\n",
    "- [**cartopy**](http://scitools.org.uk/cartopy/) &mdash; I like to think of cartopy (in combination with Matplotlib) as a fairly solid Python substitute for GMT. Cartopy supports a large number of projections and allows for easy translation of data between projections by defining source and destination [`cartopy.crs`](http://scitools.org.uk/cartopy/docs/v0.15/crs/index.html) instances.\n",
    "\n",
    "\n",
    "- [**geoviews**](http://geo.holoviews.org/) &mdash; GeoViews is the geospatially-oriented version of HoloViews. Like HoloViews, it is compatible with both the Bokeh and Matplotlib backends. The notebooks in [`experiments/`](experiments) explore these various backends. GeoViews has great integration with xarray and cartopy, and at the time of writing is rapidly accumulating powerful new features including reprojection and regridding routines. Check out the [gallery](http://geo.holoviews.org/gallery/index.html) for inspiration.\n",
    "\n",
    "\n",
    "- [**holoviews**](http://holoviews.org/) &mdash; HoloViews is designed to make visualizing data as trivial as possible. For our purposes we mostly interact with HoloViews `Elements` that are wrapped into geospatially-friendly `GeoElements` by GeoViews. HoloViews works with either Bokeh or Matplotlib as the plotting backend.\n",
    "\n",
    "### Miscellaneous\n",
    "- [**colorcet**](https://bokeh.github.io/colorcet/) &mdash; Perceptually uniform colormaps compatible with both Matplotlib and Bokeh.\n",
    "\n",
    "\n",
    "- [**esmpy**](http://www.earthsystemmodeling.org/esmf_releases/public/ESMF_7_1_0r/esmpy_doc/html/index.html) &mdash; Python interface to the Earth System Modeling Framework (ESMF) regridding utility. Required by xESMF.\n",
    "\n",
    "\n",
    "- [**geopy**](https://geopy.readthedocs.io/en/latest/) &mdash; Provides \"geocoding\" functionality. Enter in a location string, such as `'Taupo, NZ'` or `'Te Papa'` or even something as vague as `'steepest street in the world'`, and retrieve the coordinates and address information.\n",
    "\n",
    "\n",
    "- [**pyproj**](https://jswhit.github.io/pyproj/) &mdash; I mostly use this for transforming coordinates between different coodinate systems using [`pyproj.transform`](https://jswhit.github.io/pyproj/pyproj-module.html#transform).\n",
    "\n",
    "\n",
    "- [**shapely**](https://shapely.readthedocs.io/en/latest/) &mdash; A powerful library for manipulating 2D geometries. There are many applications of Shapely, but in particular it allows for the packaging of coordinates into geometry objects that can be processed GIS-style. Plays well with Fiona to read/write/process shapefiles.\n",
    "\n",
    "\n",
    "- [**xesmf**](http://xesmf.readthedocs.io/en/latest/) &mdash; Very slick package for regridding datasets (i.e. reduce the cell size of an ash deposition model).\n",
    "\n",
    "<a id=\"global\"></a>\n",
    "## 2. Global visualization specifications\n",
    "------------------------------------------------------\n",
    "Specify a `FILENAME` and colorbar limits expressed as `ASH_MIN` and `ASH_MAX`. For plots with colorbars, ash thickness values below `ASH_MIN` and above `ASH_MAX` will be mapped to the colorbar's lowest and highest colors, respectively. This is useful for ignoring trace ash amounts. `CMAP` must be a string corresponding to one of the many excellent palettes included with colorcet. https://bokeh.github.io/colorcet/"
   ]
  },
  {
   "cell_type": "code",
   "execution_count": null,
   "metadata": {
    "scrolled": false
   },
   "outputs": [],
   "source": [
    "# filename (including path) of HYSPLIT model\n",
    "FILENAME = '18042918_taupo_15.0_0.01.nc'\n",
    "\n",
    "# colorbar cutoff values\n",
    "ASH_MIN = 10**-1\n",
    "ASH_MAX = 10**2\n",
    "\n",
    "CMAP = 'linear_kry_5_98_c75'\n",
    "\n",
    "list(reversed(cc.palette[CMAP]))\n",
    "cc.cm[CMAP+'_r']"
   ]
  },
  {
   "cell_type": "code",
   "execution_count": null,
   "metadata": {},
   "outputs": [],
   "source": []
  },
  {
   "cell_type": "code",
   "execution_count": null,
   "metadata": {},
   "outputs": [],
   "source": []
  },
  {
   "cell_type": "code",
   "execution_count": null,
   "metadata": {},
   "outputs": [],
   "source": []
  },
  {
   "cell_type": "code",
   "execution_count": null,
   "metadata": {},
   "outputs": [],
   "source": []
  },
  {
   "cell_type": "code",
   "execution_count": null,
   "metadata": {},
   "outputs": [],
   "source": []
  },
  {
   "cell_type": "code",
   "execution_count": null,
   "metadata": {},
   "outputs": [],
   "source": []
  },
  {
   "cell_type": "code",
   "execution_count": null,
   "metadata": {},
   "outputs": [],
   "source": []
  },
  {
   "cell_type": "markdown",
   "metadata": {},
   "source": [
    "# 1. Reading the HYSPLIT output file\n",
    "We start by reading the chosen HYSPLIT netCDF file using [xarray](http://xarray.pydata.org/en/stable/), returning an `xarray.Dataset` object. The `Dataset` object is essentially an in-memory representation of the netCDF file. It's self-describing and it contains all of the attributes, coordinates, units etc. of the source file."
   ]
  },
  {
   "cell_type": "code",
   "execution_count": null,
   "metadata": {},
   "outputs": [],
   "source": [
    "import xarray as xr\n",
    "\n",
    "FILENAME = '18042918_taupo_15.0_0.01.nc'\n",
    "\n",
    "model = xr.open_dataset(FILENAME)"
   ]
  },
  {
   "cell_type": "markdown",
   "metadata": {},
   "source": [
    "We make a few out-of-the-box modifications to the model:\n",
    "* The edge of the model space for these HYSPLIT files runs right up to the 180<sup>th</sup> meridian, which causes instabilities in some plotting codes that don't know how to \"wrap-around\" coordinates. To avoid issues we remove the sliver of model space on this edge.\n",
    "* We trim the model space to the smallest bounding box encompassing all non-zero ash deposition values at the final model time step. This vastly reduces the number of elements in the model, and we don't lose any information since those discarded elements were all zero anyways.\n",
    "* Finally, we stick in a trivial empty time step at $t=0$, since most of our plots which incorporate the time dimension make more sense when intialized at the actual onset of the eruption."
   ]
  },
  {
   "cell_type": "markdown",
   "metadata": {},
   "source": [
    "# [wish list]\n",
    "\n",
    "time_profiles\n",
    "* bar plot instead of line plot\n",
    "* force time axis tick interval to match model time step\n",
    "* plot total ashfall extent as a patch instead of a contour\n",
    "* tweak vocabulary of descriptions\n",
    "* implement time slider for contours\n",
    "    \n",
    "map plots\n",
    "* use white, labelled contours"
   ]
  }
 ],
 "metadata": {
  "kernelspec": {
   "display_name": "bokeh-dev",
   "language": "python",
   "name": "bokeh-dev"
  },
  "language_info": {
   "codemirror_mode": {
    "name": "ipython",
    "version": 3
   },
   "file_extension": ".py",
   "mimetype": "text/x-python",
   "name": "python",
   "nbconvert_exporter": "python",
   "pygments_lexer": "ipython3",
   "version": "3.6.4"
  }
 },
 "nbformat": 4,
 "nbformat_minor": 2
}
