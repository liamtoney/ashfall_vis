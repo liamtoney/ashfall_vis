{
 "cells": [
  {
   "cell_type": "markdown",
   "metadata": {},
   "source": [
    "# geoviews_mpl_map\n",
    "---\n",
    "Plots a simple ashfall model that can be projected into an arbitrary coordinate system. Drag the slider to view the ashfall map at different time steps. A very solid, basic evaluative tool.\n",
    "\n",
    "## *Pros*\n",
    "* Very minimal code required to produce a very nice product\n",
    "* Plays well with cartopy &mdash; that means features, projections etc.\n",
    "* Very snappy interface\n",
    "* Matplotlib backend makes contours etc. much easier to implement\n",
    "\n",
    "## *Cons*\n",
    "* No Bokeh integration means no panning / zooming functionality and no HTML export\n",
    "* Time slider is not very configurable"
   ]
  },
  {
   "cell_type": "code",
   "execution_count": null,
   "metadata": {
    "scrolled": false
   },
   "outputs": [],
   "source": [
    "import holoviews as hv\n",
    "import geoviews as gv\n",
    "import cartopy.crs as ccrs\n",
    "import cartopy.feature as cf\n",
    "import colorcet as cc\n",
    "\n",
    "import sys\n",
    "sys.path.insert(0, '../')\n",
    "from vis_tools import read_hysplit_netcdf\n",
    "\n",
    "# ignore two benign warnings that arise from my use of NaN's instead of 0's\n",
    "import warnings\n",
    "warnings.filterwarnings('ignore', message='invalid value encountered in less_equal')\n",
    "warnings.filterwarnings('ignore', message='All-NaN slice encountered')\n",
    "\n",
    "hv.extension('matplotlib')\n",
    "\n",
    "###############################################\n",
    "# SPECIFY: file name and path for HYSPLIT model\n",
    "FILENAME = '../18042918_taupo_15.0_0.01.nc'\n",
    "\n",
    "# SPECIFY:\n",
    "ASH_MIN = 10**-1  # min ash colorbar cutoff\n",
    "ASH_MAX = 10**2  # max ash colorbar cutoff\n",
    "###############################################\n",
    "\n",
    "NZTM_PROJ = ccrs.epsg(2193)  # define projection using NZTM EPSG code (need internet access)\n",
    "\n",
    "# INPUT: boundary data\n",
    "boundary_data = cf.GSHHSFeature(scale='auto', levels=[1, 2]) \n",
    "      \n",
    "# INPUT: model   \n",
    "model = read_hysplit_netcdf(FILENAME, ASH_MIN)\n",
    "\n",
    "gv_ds = gv.Dataset(model, crs=ccrs.PlateCarree())\n",
    "gv_ds = gv_ds.redim.label(lon='easting', lat='northing', total_deposition='ash thickness (mm)')\n",
    "\n",
    "fig = gv_ds.to(gv.Image, ['lon', 'lat']) * gv.Feature(boundary_data) * gv.Points(tuple(model.attrs['volcano_location'][::-1]))\n",
    "\n",
    "plot_opts = {'Image': {'style': dict(cmap=cc.m_fire_r, clims=(ASH_MIN, ASH_MAX)),\n",
    "                        'plot': dict(projection=NZTM_PROJ, colorbar=True, logz=True, fig_size=200,\n",
    "                                     title_format=FILENAME.split('/')[-1])},\n",
    "           'Feature': {'style': dict(),\n",
    "                        'plot': dict(projection=NZTM_PROJ)},\n",
    "            'Points': {'style': dict(marker='^', color='c', edgecolors='k', s=100, linewidths=0.75),\n",
    "                        'plot': dict(projection=NZTM_PROJ)}            \n",
    "            }\n",
    "\n",
    "fig = fig.opts(plot_opts)\n",
    "\n",
    "fig"
   ]
  }
 ],
 "metadata": {
  "kernelspec": {
   "display_name": "bokeh-dev",
   "language": "python",
   "name": "bokeh-dev"
  },
  "language_info": {
   "codemirror_mode": {
    "name": "ipython",
    "version": 3
   },
   "file_extension": ".py",
   "mimetype": "text/x-python",
   "name": "python",
   "nbconvert_exporter": "python",
   "pygments_lexer": "ipython3",
   "version": "3.6.4"
  }
 },
 "nbformat": 4,
 "nbformat_minor": 2
}
