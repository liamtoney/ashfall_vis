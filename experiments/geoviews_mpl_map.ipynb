{
 "cells": [
  {
   "cell_type": "markdown",
   "metadata": {},
   "source": [
    "# geoviews_mpl_map\n",
    "---\n",
    "Plots a simple ashfall model that can be projected into an arbitrary coordinate system. Drag the slider to view the ashfall map at different time steps. A very solid, basic evaluative tool.\n",
    "\n",
    "## *Pros*\n",
    "* Very minimal code required to produce a very nice product\n",
    "* Plays well with cartopy &mdash; that means features, projections etc.\n",
    "* Very snappy interface\n",
    "* Matplotlib backend makes contours etc. much easier to implement\n",
    "\n",
    "## *Cons*\n",
    "* No Bokeh integration means no panning / zooming functionality and no HTML export\n",
    "* Time slider is not very configurable\n",
    "* Difficult to adjust map extent"
   ]
  },
  {
   "cell_type": "code",
   "execution_count": null,
   "metadata": {
    "scrolled": false
   },
   "outputs": [],
   "source": [
    "import geoviews as gv\n",
    "import cartopy.crs as ccrs\n",
    "import cartopy.feature as cf\n",
    "import colorcet as cc\n",
    "\n",
    "import sys\n",
    "sys.path.insert(0, '../')\n",
    "from vis_tools import read_hysplit_netcdf\n",
    "\n",
    "# ignore two benign warnings that arise from my use of NaN's instead of 0's\n",
    "import warnings\n",
    "warnings.filterwarnings('ignore', message='invalid value encountered in less_equal')\n",
    "warnings.filterwarnings('ignore', message='All-NaN slice encountered')\n",
    "\n",
    "gv.extension('matplotlib')\n",
    "\n",
    "###############################################\n",
    "# SPECIFY: file name and path for HYSPLIT model\n",
    "FILENAME = '../18042918_taupo_15.0_0.01.nc'\n",
    "\n",
    "# SPECIFY:\n",
    "ASH_MIN = 10**-1  # min ash colorbar cutoff\n",
    "ASH_MAX = 10**2  # max ash colorbar cutoff\n",
    "###############################################\n",
    "\n",
    "NZTM_PROJ = ccrs.epsg(2193)  # define projection using NZTM EPSG code (need internet access)\n",
    "\n",
    "# INPUT: boundary data\n",
    "boundary_data = cf.GSHHSFeature(scale='auto', levels=[1, 2]) \n",
    "      \n",
    "# INPUT: model   \n",
    "model = read_hysplit_netcdf(FILENAME, ASH_MIN)\n",
    "volc_loc = model.attrs['volcano_location'][::-1]\n",
    "\n",
    "gv_ds = gv.Dataset(model)\n",
    "\n",
    "fig = gv_ds.to(gv.Image, ['lon', 'lat'], rtol=10e-2) * gv.Feature(boundary_data) * gv.Points(tuple(volc_loc))\n",
    "\n",
    "plot_opts = {'Image': {'style': dict(cmap=cc.m_fire_r, clims=(ASH_MIN, ASH_MAX)),\n",
    "                        'plot': dict(projection=NZTM_PROJ, global_extent=True, colorbar=True, logz=True, fig_size=200,\n",
    "                                     title_format=FILENAME.split('/')[-1])},\n",
    "            'Points': {'style': dict(marker='^', color='c', edgecolors='k', s=100, linewidths=0.75)}\n",
    "            }\n",
    "\n",
    "fig = fig.opts(plot_opts)\n",
    "\n",
    "fig.redim(lon=gv.Dimension('easting'), \n",
    "          lat=gv.Dimension('northing'),\n",
    "          total_deposition=gv.Dimension('total deposition', unit='mm'))"
   ]
  }
 ],
 "metadata": {
  "kernelspec": {
   "display_name": "ashfall_visual",
   "language": "python",
   "name": "ashfall_visual"
  },
  "language_info": {
   "codemirror_mode": {
    "name": "ipython",
    "version": 3
   },
   "file_extension": ".py",
   "mimetype": "text/x-python",
   "name": "python",
   "nbconvert_exporter": "python",
   "pygments_lexer": "ipython3",
   "version": "3.7.3"
  }
 },
 "nbformat": 4,
 "nbformat_minor": 2
}
