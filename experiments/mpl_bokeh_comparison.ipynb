{
 "cells": [
  {
   "cell_type": "markdown",
   "metadata": {},
   "source": [
    "# mpl_bokeh_comparison\n",
    "---\n",
    "Using GeoViews, this notebook plots the same ashfall model with the Matplotlib backend versus the Bokeh backend.\n",
    "\n",
    "Though it's a bit tricky to see, there is a small reduction in grid resolution for the Bokeh backend plot that occurs when GeoViews re-grids the model using cartopy's [`warp_array`](https://github.com/SciTools/cartopy/blob/master/lib/cartopy/img_transform.py) function. The re-gridding process is necessary for the Bokeh backend since Bokeh only has support for plotting [rectangular images with evenly-spaced axes](https://bokeh.pydata.org/en/latest/docs/reference/models/glyphs/image.html#) (at the time of writing). With the Matplotlib backend, on the other hand, we can take advantage of how closely Matplotlib and cartopy work together to project all sorts of wildly warped images, such as [this one](http://scitools.org.uk/cartopy/docs/v0.15/matplotlib/advanced_plotting.html#block-plots)."
   ]
  },
  {
   "cell_type": "code",
   "execution_count": null,
   "metadata": {
    "scrolled": false
   },
   "outputs": [],
   "source": [
    "# SPECIFY GLOBAL PARAMS\n",
    "\n",
    "import numpy as np\n",
    "import holoviews as hv\n",
    "import geoviews as gv\n",
    "import cartopy.crs as ccrs\n",
    "import cartopy.feature as cf\n",
    "import colorcet as cc\n",
    "from bokeh.models.renderers import GlyphRenderer\n",
    "from bokeh.models.glyphs import Patches\n",
    "\n",
    "import sys\n",
    "sys.path.insert(0, '../')\n",
    "from vis_tools import read_hysplit_netcdf\n",
    "\n",
    "###############################################\n",
    "# SPECIFY: file name and path for HYSPLIT model\n",
    "FILENAME = '../18042918_taupo_15.0_0.01.nc'\n",
    "\n",
    "# SPECIFY:\n",
    "ASH_MIN = 10**-2  # min ash colorbar cutoff\n",
    "ASH_MAX = 10**2  # max ash colorbar cutoff\n",
    "###############################################\n",
    "       \n",
    "model = read_hysplit_netcdf(FILENAME).isel(time=-1)\n",
    "model['total_deposition'].values = np.log10(model['total_deposition'].values)  # manually take the log\n",
    "\n",
    "gv_ds = gv.Dataset(model, crs=ccrs.PlateCarree())\n",
    "gv_ds = gv_ds.redim.range(total_deposition=(np.log10(ASH_MIN), np.log10(ASH_MAX)))\n",
    "\n",
    "STAMEN_TERRAIN = 'http://tile.stamen.com/terrain/{z}/{x}/{y}.jpg'\n",
    "CMAP = cc.b_linear_kry_5_98_c75[::-1]\n",
    "TITLE = FILENAME.split('/')[-1]\n",
    "\n",
    "geoms = cf.GSHHSFeature(scale='i', levels=[1, 2]).intersecting_geometries([172, 179, -42, -34])\n",
    "COASTLINES = gv.Feature(cf.ShapelyFeature(geoms, crs=ccrs.PlateCarree()))\n",
    "\n",
    "GRATICLES = gv.Feature(cf.NaturalEarthFeature(category='physical', name='graticules_1', scale='110m'))"
   ]
  },
  {
   "cell_type": "code",
   "execution_count": null,
   "metadata": {},
   "outputs": [],
   "source": [
    "# MATPLOTLIB BACKEND\n",
    "\n",
    "hv.extension('matplotlib')\n",
    "m_fig = gv.WMTS(STAMEN_TERRAIN) * gv_ds.to(gv.Image, ['lon', 'lat']) * COASTLINES * GRATICLES\n",
    "       \n",
    "def resize(plot, element):    \n",
    "    plot.handles['fig'].set_size_inches(16,8)    \n",
    "    \n",
    "m_plot_opts = {'Image': {'style': dict(cmap=CMAP),\n",
    "                          'plot': dict(apply_ranges=True, title_format=TITLE,\n",
    "                                       projection=ccrs.GOOGLE_MERCATOR, final_hooks=[resize])},\n",
    "             'Feature': {'style': dict(edgecolor='k', facecolor='none'),\n",
    "                          'plot': dict(projection=ccrs.GOOGLE_MERCATOR)}\n",
    "              }             \n",
    "m_fig.opts(m_plot_opts)"
   ]
  },
  {
   "cell_type": "code",
   "execution_count": null,
   "metadata": {
    "scrolled": false
   },
   "outputs": [],
   "source": [
    "# BOKEH BACKEND\n",
    "\n",
    "hv.extension('bokeh')\n",
    "b_fig = gv.WMTS(STAMEN_TERRAIN) * gv_ds.to(gv.Image, ['lon', 'lat']) * COASTLINES * GRATICLES\n",
    "         \n",
    "def adjust_plot(plot, element):\n",
    "    p = plot.handles['plot']\n",
    "    for object in p.renderers:\n",
    "        if isinstance(object, GlyphRenderer):\n",
    "            if isinstance(object.glyph, Patches):\n",
    "                object.glyph.fill_alpha = 0\n",
    "    \n",
    "b_plot_opts = {'Image': {'style': dict(cmap=CMAP),\n",
    "                          'plot': dict(title_format=TITLE, width=600, height=600)},\n",
    "             'Feature': {'style': dict(),\n",
    "                          'plot': dict(apply_ranges=False, finalize_hooks=[adjust_plot])}\n",
    "              }             \n",
    "b_fig.opts(b_plot_opts)"
   ]
  }
 ],
 "metadata": {
  "kernelspec": {
   "display_name": "ashfall_visual",
   "language": "python",
   "name": "ashfall_visual"
  },
  "language_info": {
   "codemirror_mode": {
    "name": "ipython",
    "version": 3
   },
   "file_extension": ".py",
   "mimetype": "text/x-python",
   "name": "python",
   "nbconvert_exporter": "python",
   "pygments_lexer": "ipython3",
   "version": "3.6.5"
  }
 },
 "nbformat": 4,
 "nbformat_minor": 2
}
