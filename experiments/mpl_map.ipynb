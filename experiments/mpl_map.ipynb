{
 "cells": [
  {
   "cell_type": "markdown",
   "metadata": {},
   "source": [
    "# mpl_map\n",
    "---\n",
    "Plots a simple, static ashfall model for a given time step that can be projected into an arbitrary coordinate system. Good for quick model evaluations. Strangely, setting tick labels and gridlines is limited to only two projections:\n",
    "\n",
    "`TypeError: Cannot label gridlines on a _EPSGProjection plot.  Only PlateCarree and Mercator plots are currently supported.`\n",
    "\n",
    "This limitation will apparently be [addressed sometime in the future](http://scitools.org.uk/cartopy/docs/v0.13/matplotlib/gridliner.html#cartopy-map-gridlines-and-tick-labels), but meanwhile, GeoViews with the Matplotlib backend handles tick labels for arbitrary projections just fine.\n",
    "\n",
    "Overall, the combination of Matplotlib and cartopy can compete with GMT from an aesthetic standpoint, and it is certainly much more reasonable than GMT in terms of ease-of-use and code clarity (GMT may address these issues with [GMT/Python](http://www.gmtpython.xyz/)).\n",
    "\n",
    "## *Pros*\n",
    "* Minimal code required to produce a very nice product\n",
    "* Plays well with cartopy &mdash; that means features, projections etc.\n",
    "* Integrates quite nicely with xarray plotting (for example, this notebook uses [`xarray.plot.pcolormesh`](http://xarray.pydata.org/en/stable/generated/xarray.plot.pcolormesh.html#xarray-plot-pcolormesh))\n",
    "\n",
    "## *Cons*\n",
    "* Not interactive\n",
    "* Poor support for tick labels and gridlines"
   ]
  },
  {
   "cell_type": "code",
   "execution_count": null,
   "metadata": {
    "scrolled": false
   },
   "outputs": [],
   "source": [
    "%matplotlib inline\n",
    "\n",
    "import numpy as np\n",
    "import matplotlib.pyplot as plt\n",
    "from matplotlib.colors import LogNorm\n",
    "import colorcet as cc\n",
    "import cartopy.feature as cf \n",
    "import cartopy.crs as ccrs\n",
    "\n",
    "import sys\n",
    "sys.path.insert(0, '../')\n",
    "from vis_tools import read_hysplit_netcdf\n",
    "\n",
    "# ignore warning that arises from my use of NaN's instead of 0's\n",
    "import warnings\n",
    "warnings.filterwarnings('ignore', message='invalid value encountered in less_equal')\n",
    "\n",
    "###############################################\n",
    "# SPECIFY: file name and path for HYSPLIT model\n",
    "FILENAME = '../18042918_taupo_15.0_0.01.nc'\n",
    "\n",
    "# SPECIFY: pick one time step to plot\n",
    "TIME_STEP = 8\n",
    "\n",
    "# SPECIFY: plotting params\n",
    "ASH_MIN = 10**-1  # min ash colorbar cutoff\n",
    "ASH_MAX = 10**2  # max ash colorbar cutoff\n",
    "###############################################\n",
    "\n",
    "model = read_hysplit_netcdf(FILENAME, ASH_MIN)\n",
    "\n",
    "NZTM_PROJ = ccrs.epsg(2193)  # define projection using NZTM EPSG code (need internet access)\n",
    "\n",
    "# create figure and set font size\n",
    "plt.figure(figsize=(10, 8))\n",
    "ax = plt.axes(projection=NZTM_PROJ)\n",
    "\n",
    "# PLOT background geography\n",
    "ax.coastlines(resolution='50m', zorder=3)\n",
    "ax.add_feature(cf.NaturalEarthFeature(category='physical', scale='50m', name='lakes',\n",
    "                                      edgecolor='k', facecolor='none', zorder=4))\n",
    "\n",
    "# PLOT ashfall (using log scale)\n",
    "ash = model.isel(time=TIME_STEP)['total_deposition']\n",
    "ash.plot.pcolormesh(transform=ccrs.PlateCarree(), cmap=cc.m_fire_r, cbar_kwargs=dict(label='ash thickness (mm)'),\n",
    "                    norm=LogNorm(), vmin=ASH_MIN, vmax=ASH_MAX, zorder=1)\n",
    "contour_levels = np.arange(np.log10(ASH_MIN)+1, np.log10(ASH_MAX)+1)  # log-spaced contours (skip ASH_MIN contour)\n",
    "ash.plot.contour(ax=ax, transform=ccrs.PlateCarree(), levels=contour_levels,\n",
    "                 colors='k', alpha=0.5, linewidths=0.75, zorder=2)\n",
    "\n",
    "# PLOT source location\n",
    "ax.plot(*model.attrs['volcano_location'][::-1], transform=ccrs.Geodetic(),\n",
    "        marker='^', ms=10, mew=0.75, c='c', mec='k', zorder=5)\n",
    "\n",
    "ts = np.mean(np.ediff1d(model['time']).astype('timedelta64[h]')).astype(int)  # hours\n",
    "\n",
    "plt.title(FILENAME.split('/')[-1] + '\\n' + str(TIME_STEP*ts) + ' hours after eruption onset');"
   ]
  }
 ],
 "metadata": {
  "kernelspec": {
   "display_name": "ashfall_visual",
   "language": "python",
   "name": "ashfall_visual"
  },
  "language_info": {
   "codemirror_mode": {
    "name": "ipython",
    "version": 3
   },
   "file_extension": ".py",
   "mimetype": "text/x-python",
   "name": "python",
   "nbconvert_exporter": "python",
   "pygments_lexer": "ipython3",
   "version": "3.6.5"
  }
 },
 "nbformat": 4,
 "nbformat_minor": 2
}
