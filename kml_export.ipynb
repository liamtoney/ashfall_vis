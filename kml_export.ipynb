{
 "cells": [
  {
   "cell_type": "code",
   "execution_count": 9,
   "metadata": {},
   "outputs": [],
   "source": [
    "from vis_tools import read_hysplit_netcdf\n",
    "\n",
    "###############################################\n",
    "# SPECIFY: file name and path for HYSPLIT model\n",
    "FILENAME = '/opt/hysplit/18050812_ruapehu_12.5_0.01.nc'\n",
    "###############################################\n",
    "\n",
    "model = read_hysplit_netcdf(FILENAME)"
   ]
  },
  {
   "cell_type": "code",
   "execution_count": 10,
   "metadata": {},
   "outputs": [
    {
     "data": {
      "text/plain": [
       "<xarray.Dataset>\n",
       "Dimensions:           (lat: 123, lon: 439, time: 9)\n",
       "Coordinates:\n",
       "  * lat               (lat) float32 -39.62 -39.61 -39.6 -39.59 -39.58 -39.57 ...\n",
       "  * lon               (lon) float32 175.61 175.62 175.63 175.64 175.65 ...\n",
       "  * time              (time) datetime64[ns] 2018-05-08T12:00:00 ...\n",
       "Data variables:\n",
       "    total_deposition  (lat, lon, time) float64 nan nan nan nan nan nan nan ...\n",
       "Attributes:\n",
       "    eruption_time:           2018-05-08T12:00:00\n",
       "    accumulation_period_h:   24\n",
       "    volcano:                 Ruapehu\n",
       "    plume_height_amsl:       12.5\n",
       "    volume_km3:              0.01\n",
       "    eruption_duration_hhmm:  0100\n",
       "    volcano_location:        [-39.2816, 175.5639]"
      ]
     },
     "execution_count": 10,
     "metadata": {},
     "output_type": "execute_result"
    }
   ],
   "source": [
    "model"
   ]
  },
  {
   "cell_type": "code",
   "execution_count": 11,
   "metadata": {},
   "outputs": [],
   "source": [
    "import fastkml"
   ]
  }
 ],
 "metadata": {
  "kernelspec": {
   "display_name": "Python 3 Bokeh dev",
   "language": "python",
   "name": "bokeh-dev"
  },
  "language_info": {
   "codemirror_mode": {
    "name": "ipython",
    "version": 3
   },
   "file_extension": ".py",
   "mimetype": "text/x-python",
   "name": "python",
   "nbconvert_exporter": "python",
   "pygments_lexer": "ipython3",
   "version": "3.6.4"
  }
 },
 "nbformat": 4,
 "nbformat_minor": 2
}
