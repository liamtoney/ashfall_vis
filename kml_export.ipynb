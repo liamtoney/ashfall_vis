{
 "cells": [
  {
   "cell_type": "code",
   "execution_count": 1,
   "metadata": {},
   "outputs": [],
   "source": [
    "from vis_tools import read_hysplit_netcdf\n",
    "\n",
    "###############################################\n",
    "# SPECIFY: file name and path for HYSPLIT model\n",
    "FILENAME = '18042918_taupo_15.0_0.01.nc'\n",
    "###############################################\n",
    "\n",
    "model = read_hysplit_netcdf(FILENAME)"
   ]
  },
  {
   "cell_type": "code",
   "execution_count": 2,
   "metadata": {},
   "outputs": [
    {
     "data": {
      "text/plain": [
       "<xarray.Dataset>\n",
       "Dimensions:           (lat: 417, lon: 656, time: 9)\n",
       "Coordinates:\n",
       "  * lat               (lat) float32 -41.58 -41.57 -41.56 -41.55 -41.54 ...\n",
       "  * lon               (lon) float32 171.16 171.17 171.18 171.19 171.2 171.21 ...\n",
       "  * time              (time) datetime64[ns] 2018-04-29T18:00:00 ...\n",
       "Data variables:\n",
       "    total_deposition  (lat, lon, time) float64 nan nan nan nan nan nan nan ...\n",
       "Attributes:\n",
       "    eruption_time:           2018-04-29T18:00:00\n",
       "    accumulation_period_h:   24\n",
       "    volcano:                 Taupo\n",
       "    plume_height_amsl:       15.0\n",
       "    volume_km3:              0.01\n",
       "    eruption_duration_hhmm:  0100\n",
       "    volcano_location:        [-38.8072, 175.9782]"
      ]
     },
     "execution_count": 2,
     "metadata": {},
     "output_type": "execute_result"
    }
   ],
   "source": [
    "model"
   ]
  },
  {
   "cell_type": "code",
   "execution_count": 3,
   "metadata": {},
   "outputs": [],
   "source": [
    "import fastkml"
   ]
  }
 ],
 "metadata": {
  "kernelspec": {
   "display_name": "Python 3 Bokeh dev",
   "language": "python",
   "name": "bokeh-dev"
  },
  "language_info": {
   "codemirror_mode": {
    "name": "ipython",
    "version": 3
   },
   "file_extension": ".py",
   "mimetype": "text/x-python",
   "name": "python",
   "nbconvert_exporter": "python",
   "pygments_lexer": "ipython3",
   "version": "3.6.4"
  }
 },
 "nbformat": 4,
 "nbformat_minor": 2
}
