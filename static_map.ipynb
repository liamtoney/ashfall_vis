{
 "cells": [
  {
   "cell_type": "code",
   "execution_count": null,
   "metadata": {},
   "outputs": [],
   "source": [
    "%matplotlib inline\n",
    "\n",
    "import numpy as np\n",
    "import matplotlib as mpl\n",
    "import matplotlib.pyplot as plt\n",
    "import matplotlib.colors as colors\n",
    "import pyproj\n",
    "from vis_tools import grab_GMT_features, read_HYSPLIT_netCDF\n",
    "\n",
    "##############################################################\n",
    "# SPECIFY: file name and path for HYSPLIT model\n",
    "FILENAME = '/opt/hysplit/18040212_taupo_3.0_0.01.nc'\n",
    "\n",
    "# SPECIFY: pick one of 8 time steps (indices 0-7, 3 hr chunks)\n",
    "TIME_STEP = 0\n",
    "\n",
    "# SPECIFY: plotting params\n",
    "ASH_MIN = 10**-2  # min ash colorbar cutoff\n",
    "ASH_MAX = 10**2  # max ash colorbar cutoff\n",
    "CONTOURS = 'none'  # number of contours (or specify 'none')\n",
    "RES = 'f'  # detail of GMT features ('c', 'l', 'i', 'h', 'f')\n",
    "##############################################################\n",
    "\n",
    "# projection stuff\n",
    "WGS84 = pyproj.Proj('+init=epsg:4326')\n",
    "NZTM = pyproj.Proj('+proj=tmerc +lat_0=0 +lon_0=173 +k=0.9996 +x_0=1600000 +y_0=10000000 '\n",
    "                    '+ellps=GRS80 +towgs84=0,0,0,0,0,0,0 +units=m +no_defs'\n",
    "                  )\n",
    "\n",
    "model = read_HYSPLIT_netCDF(FILENAME)\n",
    "\n",
    "# project to NZTM\n",
    "src_E, src_N = pyproj.transform(WGS84, NZTM, model.attrs['volcano_location'][1], model.attrs['volcano_location'][0])\n",
    "model_E, model_N = pyproj.transform(WGS84, NZTM, model['lon'].values, model['lat'].values)\n",
    "\n",
    "time_slice = model['total_deposition'].values[TIME_STEP, :, :]  # grab time step from the gridded data        \n",
    "np.place(time_slice, time_slice==0, np.nan)  # replace all zero values with nan's\n",
    "\n",
    "# tweak figure settings for readability\n",
    "plt.figure(figsize=(14, 8))\n",
    "mpl.rcParams.update({'font.size': 14})\n",
    "\n",
    "# PLOT (projected) background geography\n",
    "features = grab_GMT_features(-48, -33, 165, 180, RES)  # this includes all of NZ\n",
    "for f_lat, f_lon in zip(features['latitude'], features['longitude']):\n",
    "    f_E, f_N = pyproj.transform(WGS84, NZTM, f_lon, f_lat)\n",
    "    plt.plot(f_E, f_N, 'k', linewidth=0.75, zorder=3)\n",
    "\n",
    "# PLOT ashfall (using log scale)\n",
    "plt.pcolor(model_E, model_N, time_slice, cmap='hot_r', norm=colors.LogNorm(), vmin=ASH_MIN, vmax=ASH_MAX, zorder=1)\n",
    "cb = plt.colorbar()\n",
    "if CONTOURS != 'none':\n",
    "    plt.contour(model_E, model_N, time_slice, np.logspace(np.log10(ASH_MIN), np.log10(ASH_MAX), CONTOURS),\\\n",
    "                colors='k', alpha = 0.5, linewidths=0.75, zorder=32)\n",
    "\n",
    "# PLOT source location\n",
    "plt.scatter(src_E, src_N, s=200, c='c', marker='*', edgecolors='k', linewidths=0.75, zorder=4, label='source')\n",
    "\n",
    "# HARD-CODED plot limits for now\n",
    "plt.xlim(1600000, 2100000)\n",
    "plt.ylim(5600000, 6000000)\n",
    "plt.gca().set_aspect('equal', adjustable='box')\n",
    "\n",
    "plt.xlabel('easting')\n",
    "plt.ylabel('northing')\n",
    "plt.title(FILENAME.split('/')[-1] + '\\n' + str((TIME_STEP+1)*3) + ' hrs post-event')\n",
    "cb.set_label('ash thickness (mm)')\n",
    "\n",
    "plt.legend();"
   ]
  }
 ],
 "metadata": {
  "kernelspec": {
   "display_name": "Python 3",
   "language": "python",
   "name": "python3"
  },
  "language_info": {
   "codemirror_mode": {
    "name": "ipython",
    "version": 3
   },
   "file_extension": ".py",
   "mimetype": "text/x-python",
   "name": "python",
   "nbconvert_exporter": "python",
   "pygments_lexer": "ipython3",
   "version": "3.6.4"
  },
  "varInspector": {
   "cols": {
    "lenName": 16,
    "lenType": 16,
    "lenVar": 40
   },
   "kernels_config": {
    "python": {
     "delete_cmd_postfix": "",
     "delete_cmd_prefix": "del ",
     "library": "var_list.py",
     "varRefreshCmd": "print(var_dic_list())"
    },
    "r": {
     "delete_cmd_postfix": ") ",
     "delete_cmd_prefix": "rm(",
     "library": "var_list.r",
     "varRefreshCmd": "cat(var_dic_list()) "
    }
   },
   "oldHeight": 596.4,
   "position": {
    "height": "40px",
    "left": "1161px",
    "right": "20px",
    "top": "115px",
    "width": "356px"
   },
   "types_to_exclude": [
    "module",
    "function",
    "builtin_function_or_method",
    "instance",
    "_Feature"
   ],
   "varInspector_section_display": "none",
   "window_display": true
  }
 },
 "nbformat": 4,
 "nbformat_minor": 2
}
