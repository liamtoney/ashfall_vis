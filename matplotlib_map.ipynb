{
 "cells": [
  {
   "cell_type": "code",
   "execution_count": null,
   "metadata": {
    "scrolled": false
   },
   "outputs": [],
   "source": [
    "%matplotlib inline\n",
    "\n",
    "import numpy as np\n",
    "import matplotlib as mpl\n",
    "import matplotlib.pyplot as plt\n",
    "import matplotlib.colors as colors\n",
    "import colorcet as cc\n",
    "import cartopy.feature as cf \n",
    "import cartopy.crs as ccrs\n",
    "from vis_tools import read_hysplit_netcdf\n",
    "\n",
    "# ignore warning that arises from my use of NaN's instead of 0's\n",
    "import warnings\n",
    "warnings.filterwarnings('ignore', message='invalid value encountered in less_equal')\n",
    "\n",
    "##############################################################\n",
    "# SPECIFY: file name and path for HYSPLIT model\n",
    "FILENAME = '/opt/hysplit/18040212_ruapehu_12.5_0.01.nc'\n",
    "\n",
    "# SPECIFY: pick one time step to plot\n",
    "TIME_STEP = 1\n",
    "\n",
    "# SPECIFY: plotting params\n",
    "ASH_MIN = 10**-2  # min ash colorbar cutoff\n",
    "ASH_MAX = 10**2  # max ash colorbar cutoff\n",
    "CONTOURS = None  # number of contours (or specify None)\n",
    "##############################################################\n",
    "\n",
    "model = read_hysplit_netcdf(FILENAME)\n",
    "\n",
    "NZTM_PROJ = ccrs.epsg(2193)  # define projection using NZTM EPSG code (need internet access)\n",
    "\n",
    "# create figure and set font size\n",
    "plt.figure(figsize=(10, 8))\n",
    "mpl.rcParams.update({'font.size': 14})\n",
    "ax = plt.axes(projection=NZTM_PROJ)\n",
    "\n",
    "# PLOT background geography\n",
    "ax.coastlines(resolution='10m', zorder=3)\n",
    "ax.add_feature(cf.NaturalEarthFeature(category='physical', scale='10m', name='lakes', edgecolor='k', facecolor='none', zorder=4))\n",
    "\n",
    "# PLOT ashfall (using log scale)\n",
    "ash = model.isel(time=TIME_STEP).total_deposition\n",
    "cbar_kwargs = dict(label='ash thickness (mm)', extend='neither')\n",
    "ash.plot.pcolormesh(transform=ccrs.PlateCarree(), cmap=cc.m_fire_r, cbar_kwargs=cbar_kwargs, norm=colors.LogNorm(),\\\n",
    "                    vmin=ASH_MIN, vmax=ASH_MAX, zorder=1)\n",
    "if CONTOURS != None:\n",
    "    ash.plot.contour(ax=ax, transform=ccrs.PlateCarree(), levels=np.logspace(np.log10(ASH_MIN), np.log10(ASH_MAX), CONTOURS),\\\n",
    "                     colors='k', alpha=0.5, linewidths=0.75, zorder=2)\n",
    "\n",
    "# PLOT source location\n",
    "src_lat = model.attrs['volcano_location'][0]\n",
    "src_lon = model.attrs['volcano_location'][1]\n",
    "ax.plot(src_lon, src_lat, transform=ccrs.Geodetic(), marker='^', ms=10, mew=0.75, c='c', mec='k', zorder=6)\n",
    "\n",
    "ts = int(np.unique(np.ediff1d(model['time'])).astype('timedelta64[h]').astype(int))  # hours\n",
    "\n",
    "plt.title(FILENAME.split('/')[-1] + '\\n' + str(TIME_STEP*ts) + ' hours after eruption onset');"
   ]
  }
 ],
 "metadata": {
  "kernelspec": {
   "display_name": "Python 3 Bokeh dev",
   "language": "python",
   "name": "bokeh-dev"
  },
  "language_info": {
   "codemirror_mode": {
    "name": "ipython",
    "version": 3
   },
   "file_extension": ".py",
   "mimetype": "text/x-python",
   "name": "python",
   "nbconvert_exporter": "python",
   "pygments_lexer": "ipython3",
   "version": "3.6.4"
  }
 },
 "nbformat": 4,
 "nbformat_minor": 2
}
